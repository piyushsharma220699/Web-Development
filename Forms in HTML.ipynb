{
 "cells": [
  {
   "cell_type": "markdown",
   "metadata": {},
   "source": [
    "# FORMS IN HTML"
   ]
  },
  {
   "cell_type": "markdown",
   "metadata": {},
   "source": [
    "So basically, we need to take user input while making our websites and finally provide them with the information they want. So, to collect these informations, we use forms. With the help of forms, a user enters the data. Then this data is either processed by the browser itself (using Javascript) or the data goes to the backend servers where it gets processed."
   ]
  },
  {
   "cell_type": "markdown",
   "metadata": {},
   "source": [
    "# SIGN-UP FORM"
   ]
  },
  {
   "cell_type": "raw",
   "metadata": {},
   "source": [
    "<form>\n",
    "    <input type=\"text\">  //The default value of type attribute is \"text\"\n",
    "    <input type=\"password\">\n",
    "    <input type=\"submit\">\n",
    "</form>"
   ]
  },
  {
   "cell_type": "markdown",
   "metadata": {},
   "source": [
    "Now, here we have used the form tag to specify that it is a form in html, input is the element that is required to take inputs from the user, and as it is an inline element, the result comes into a line.\n",
    "\n",
    "Now, to add labels to the input boxes, we will specify the labels using label tag. However, to know whose label it is, we need to specify an id to the input element too, which is its unique identifier.\n",
    "Also, to make them fall in different lines, we can either use br tag or we can use div tag to make the inline elements block."
   ]
  },
  {
   "cell_type": "raw",
   "metadata": {},
   "source": [
    "<form>\n",
    "    <div>\n",
    "    <label for = \"email_input\">E-Mail ID:</label><br>\n",
    "    <input type=\"text\" id=\"email_input\">\n",
    "    </div>    \n",
    "    <div>\n",
    "    <label for = \"password_input\">Password:</label><br>\n",
    "    <input type=\"password\" id=\"password_input\">\n",
    "    </div>\n",
    "    <br>\n",
    "    <div>\n",
    "    <input type=\"submit\">\n",
    "    </div>\n",
    "</form>"
   ]
  },
  {
   "cell_type": "markdown",
   "metadata": {},
   "source": [
    "Now, to mark the fields as compulsory to provide (otherwise an error will be displayed), we use the required attribute.\n",
    "\n",
    "It is a boolean attribute which is false by default, but if that is written, it's value becomes true.\n",
    "\n",
    "Also, we can add a placeholder in the E-Mail id part so that people are able to understand what we want from them:"
   ]
  },
  {
   "cell_type": "raw",
   "metadata": {},
   "source": [
    "<div>\n",
    "<label for = \"email_input\">E-Mail ID:</label>\n",
    "<input type=\"text\" id=\"email_input\" required>\n",
    "</div>"
   ]
  },
  {
   "cell_type": "markdown",
   "metadata": {},
   "source": [
    "Now, there is one more thing, you want to collect this information from the user, and then finally send it to the server, so that server can do the task you want him to do with this data.\n",
    "\n",
    "So, the data is sent to the server in the form of NAME : VALUE. Thus, every input type element must have a name. Without the name attribute, this form element won't be submitted or in other words would not be sent to the server.\n",
    "\n",
    "Also, in the case of VALUE attribute, it is not compulsory to provide this attribute. In case of SUBMIT bullon, it defines the text that is written on the button (which by default is Submit). Also, if you want to provide any initial value to any input field too, you can do that."
   ]
  },
  {
   "cell_type": "raw",
   "metadata": {},
   "source": [
    "<form>\n",
    "    <div>\n",
    "    <input type=\"submit\" value=\"Sign-Up\">\n",
    "    </div>\n",
    "</form>"
   ]
  },
  {
   "cell_type": "markdown",
   "metadata": {},
   "source": [
    "### So finally, the sign-up form looks like this:"
   ]
  },
  {
   "cell_type": "markdown",
   "metadata": {},
   "source": [
    "<form>\n",
    "    <div>\n",
    "    <label for = \"email_input\">E-Mail ID:</label>\n",
    "    <input type=\"text\" id=\"email_input\" required placeholder=\"xyz@abc.com\"> <br>\n",
    "    </div>\n",
    "    <div>\n",
    "    <label for = \"password_input\">Password:</label>\n",
    "    <input type=\"password\" id=\"password_input\" required> <br>\n",
    "    </div>\n",
    "    <div>\n",
    "    <input type=\"submit\" value=\"Sign-Up\">\n",
    "    </div>\n",
    "</form>"
   ]
  },
  {
   "cell_type": "markdown",
   "metadata": {},
   "source": [
    "### And the code for the sign-up form is this:"
   ]
  },
  {
   "cell_type": "raw",
   "metadata": {},
   "source": [
    "<form>\n",
    "    <div>\n",
    "    <label for = \"email_input\">E-Mail ID:</label>\n",
    "    <input type=\"text\" id=\"email_input\" required placeholder=\"xyz@abc.com\"> <br>\n",
    "    </div>\n",
    "    <div>\n",
    "    <label for = \"password_input\">Password:</label>\n",
    "    <input type=\"password\" id=\"password_input\" required> <br>\n",
    "    </div>\n",
    "    <div>\n",
    "    <input type=\"submit\" value=\"Sign-Up\">\n",
    "    </div>\n",
    "</form>"
   ]
  },
  {
   "cell_type": "markdown",
   "metadata": {},
   "source": [
    "# INPUT ELEMENT ATTRIBUTES"
   ]
  },
  {
   "cell_type": "markdown",
   "metadata": {},
   "source": [
    "The following attributes are there:\n",
    "\n",
    "\n",
    "1. TYPE Attribute: Describes the type of the input user will provide.\n",
    "\n",
    "\n",
    "2. NAME Attribute: A compulsory attribute without which the value of the input will not be sent to the server for further processing.\n",
    "\n",
    "\n",
    "3. REQUIRED Attribute: A boolean attribute which tells if the field is mandatory or not.\n",
    "\n",
    "\n",
    "4. ID Attribute: Used when one is supposed to provide label to the box so that the label identifies the box to which it is labelled.\n",
    "\n",
    "\n",
    "5. VALUE Attribute: For \"button\", \"reset\", and \"submit\" - This attribute defines the text on the button. However for \"text\", \"password\", and \"hidden\" - This attribute defines the initial (default) value of the input field.\n",
    "\n",
    "\n",
    "6. PLACEHOLDER Attribute: The placeholder attribute can be used along with the input element. It adds a hint about the value the user will enter and this placeholder text will disappear when the user starts entering the value.\n",
    "\n",
    "\n",
    "7. DISABLED Attribute: This attribute makes the box unclickable and uneditable, though it might contain an initial value in it."
   ]
  },
  {
   "cell_type": "raw",
   "metadata": {},
   "source": [
    "<input type=\"text\" name=\"country\" value=\"India\" disabled>"
   ]
  },
  {
   "cell_type": "markdown",
   "metadata": {},
   "source": [
    "# FORM ELEMENT ATTRIBUTES"
   ]
  },
  {
   "cell_type": "markdown",
   "metadata": {},
   "source": [
    "ACTION Attribute: It describes where to send the data. The data can be on your local system or somewhere else.\n",
    "\n",
    "METHOD Attribute: This describes how to send the form-data. In case of Method attribute, there are mainly two values to the attribute: GET and POST.\n",
    "\n",
    "-> GET: This basically is the default value of method attribute. It sends the data by appending it to the URL in name/value pairs. However, we can't use this to forward the sensitive information. It looks like URL?name=value&name=value\n",
    "\n",
    "-> POST: It sends the data as HTTP post transaction."
   ]
  },
  {
   "cell_type": "raw",
   "metadata": {},
   "source": [
    "Thus, the overall code becomes:\n",
    "\n",
    "<form action=\"#\" method=\"post\">\n",
    "    <div>\n",
    "    <label for = \"email_input\">E-Mail ID:</label>\n",
    "    <input type=\"text\" id=\"email_input\" required placeholder=\"xyz@abc.com\"> <br>\n",
    "    </div>\n",
    "    <div>\n",
    "    <label for = \"password_input\">Password:</label>\n",
    "    <input type=\"password\" id=\"password_input\" required> <br>\n",
    "    </div>\n",
    "    <div>\n",
    "    <input type=\"submit\" value=\"Sign-Up\">\n",
    "    </div>\n",
    "</form>"
   ]
  },
  {
   "cell_type": "code",
   "execution_count": null,
   "metadata": {},
   "outputs": [],
   "source": []
  }
 ],
 "metadata": {
  "kernelspec": {
   "display_name": "Python 3",
   "language": "python",
   "name": "python3"
  },
  "language_info": {
   "codemirror_mode": {
    "name": "ipython",
    "version": 3
   },
   "file_extension": ".py",
   "mimetype": "text/x-python",
   "name": "python",
   "nbconvert_exporter": "python",
   "pygments_lexer": "ipython3",
   "version": "3.7.6"
  }
 },
 "nbformat": 4,
 "nbformat_minor": 4
}
