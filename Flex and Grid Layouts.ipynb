{
 "cells": [
  {
   "cell_type": "markdown",
   "metadata": {},
   "source": [
    "# FLEX AND GRID LAYOUTS"
   ]
  },
  {
   "cell_type": "markdown",
   "metadata": {},
   "source": [
    "To arrange multiple elements with respect to each other either horizontally or vertically."
   ]
  },
  {
   "cell_type": "raw",
   "metadata": {},
   "source": [
    "<div id=\"container\">\n",
    "</div>\n",
    "\n",
    "\n",
    "###########################################################################################################################\n",
    "\n",
    "#container{\n",
    "    height: 75vh;\n",
    "    width: 75vw;\n",
    "    background-color: cyan;\n",
    "    display: flex;\n",
    "}"
   ]
  },
  {
   "cell_type": "markdown",
   "metadata": {},
   "source": [
    "# FLEX DIRECTION"
   ]
  },
  {
   "cell_type": "markdown",
   "metadata": {},
   "source": [
    "By default, the elements inside the flex are arranged horizontally i.e. row-wise. However, you can change the direction of the flex by using the following."
   ]
  },
  {
   "cell_type": "raw",
   "metadata": {},
   "source": [
    "#div1{\n",
    "    display: flex;\n",
    "    flex-direction: column/row-reverse/column-reverse;    //Used to change the direction of elements\n",
    "}"
   ]
  },
  {
   "cell_type": "markdown",
   "metadata": {},
   "source": [
    "The sequence in which the elements will appear in the flex will depend upon the order in which you've written them in the HTML file.\n",
    "\n",
    "Basically every element has a ORDER provided. By default, the value of order property for every element inside the flex is ZERO. You can change the order by using the order property. The elements with the lower order will be placed first and one with the same order will be placed according to their order in the HTML file."
   ]
  },
  {
   "cell_type": "raw",
   "metadata": {},
   "source": [
    "## HTML FILE ##\n",
    "\n",
    "<div id=\"container\">\n",
    "    <div id=\"div1\"> Element 1 </div>\n",
    "    <div id=\"div2\"> Element 2 </div>\n",
    "    <div id=\"div3\"> Element 3 </div>\n",
    "    <div id=\"div4\"> Element 4 </div>\n",
    "</div>"
   ]
  },
  {
   "cell_type": "raw",
   "metadata": {},
   "source": [
    "## CSS FILE ##\n",
    "\n",
    "#container{\n",
    "    display: flex;\n",
    "    background-color: grey;\n",
    "}\n",
    "\n",
    "#div1{\n",
    "    background-color: red;\n",
    "}\n",
    "\n",
    "#div2{\n",
    "    background-color: blue;\n",
    "    order: 1;\n",
    "}\n",
    "\n",
    "#div3{\n",
    "    background-color: green;\n",
    "}\n",
    "\n",
    "#div4{\n",
    "    background-color: cyan;\n",
    "}\n",
    "\n",
    "\n",
    "=>This will print the elements in order (div1|div3|div4|div2)"
   ]
  },
  {
   "cell_type": "markdown",
   "metadata": {},
   "source": [
    "# FLEX WRAP"
   ]
  },
  {
   "cell_type": "markdown",
   "metadata": {},
   "source": [
    "Basically, let's suppose if the width of the parent element is 200px and that of the four child elements is 90px, then it will adjust all the four in one line and the elements will have a width of 50px. The children will get shrinked.\n",
    "\n",
    "To prevent this, we use the flex-wrap property!"
   ]
  },
  {
   "cell_type": "raw",
   "metadata": {},
   "source": [
    "#div1{\n",
    "    display: flex;\n",
    "    flex-wrap: nowrap/wrap/wrap-reverse;     //It enables wrapping in multiple lines\n",
    "}"
   ]
  },
  {
   "cell_type": "markdown",
   "metadata": {},
   "source": [
    "Then if the value of flex-wrap property is wrap, it will not shrink and come in one line, the elements will take the width they want to take and will occupy another line."
   ]
  },
  {
   "cell_type": "markdown",
   "metadata": {},
   "source": [
    "# FLEX GROW AND FLEX SHRINK"
   ]
  },
  {
   "cell_type": "markdown",
   "metadata": {},
   "source": [
    "The flex-grow property specifies the ratio with which a flex item grows relative to the\n",
    "other flex items when there is some extra space available. This controls the extent how\n",
    "much a flex-item grows, with respect to other flex items. This takes up any value from\n",
    "0(zero) to any positive number. 0(zero) means that the flex items' width would not\n",
    "change."
   ]
  },
  {
   "cell_type": "raw",
   "metadata": {},
   "source": [
    "Basically, if the width of the container is 500 px, which includes "
   ]
  },
  {
   "cell_type": "markdown",
   "metadata": {},
   "source": [
    "# FLEX JUSTIFY CONTENT"
   ]
  },
  {
   "cell_type": "markdown",
   "metadata": {},
   "source": [
    "This is the properto of the parent div of the flex. You can justify the content to have values like flex-start, flex-end, center, space-around, space-between and space-evenly."
   ]
  },
  {
   "cell_type": "raw",
   "metadata": {},
   "source": [
    "#parent_div{\n",
    "    justify-content:flex-end;\n",
    "}"
   ]
  },
  {
   "cell_type": "markdown",
   "metadata": {},
   "source": [
    "flex-start −> The flex-items are placed at the start of the container.\n",
    "\n",
    "flex-end −> The flex-items are placed at the end of the container.\n",
    "\n",
    "center −> The flex-items are placed at the center of the container, where the extra space is equally distributed at the start and at the end of the flex-items.\n",
    "\n",
    "space-between −> The extra space is equally distributed between the flex-items.\n",
    "\n",
    "space-around −> The extra space is equally distributed between the flex items such that the space between the edges of the container and its contents is half as the space between the flex-items."
   ]
  },
  {
   "cell_type": "code",
   "execution_count": null,
   "metadata": {},
   "outputs": [],
   "source": []
  }
 ],
 "metadata": {
  "kernelspec": {
   "display_name": "Python 3",
   "language": "python",
   "name": "python3"
  },
  "language_info": {
   "codemirror_mode": {
    "name": "ipython",
    "version": 3
   },
   "file_extension": ".py",
   "mimetype": "text/x-python",
   "name": "python",
   "nbconvert_exporter": "python",
   "pygments_lexer": "ipython3",
   "version": "3.7.6"
  }
 },
 "nbformat": 4,
 "nbformat_minor": 4
}
