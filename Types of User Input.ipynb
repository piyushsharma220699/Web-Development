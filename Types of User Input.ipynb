{
 "cells": [
  {
   "cell_type": "markdown",
   "metadata": {},
   "source": [
    "# BASIC INPUT TYPES"
   ]
  },
  {
   "cell_type": "markdown",
   "metadata": {},
   "source": [
    "The user can provide any type of input to a form. By default the value of the type attribute is \"text\".\n",
    "\n",
    "\n",
    "1. TEXT: This will basically input strings which can include alphanumeric characters along with symbols.\n",
    "\n",
    "\n",
    "2. PASSWORD: This will make the text go anonymous so that no one can read it.\n",
    "\n",
    "\n",
    "3. E-MAIL: This will accept the input of the type \"________@_____._____\"\n",
    "\n",
    "\n",
    "4. SUBMIT: This will create a box with submit written on it and is used to submit the form data to a form-handler. The form-handler is typically a server page with a script for processing input data and is defined in the action attribute of the form tag."
   ]
  },
  {
   "cell_type": "markdown",
   "metadata": {},
   "source": [
    "## RANGE TYPE"
   ]
  },
  {
   "cell_type": "markdown",
   "metadata": {},
   "source": [
    "<form>\n",
    "    <input type=\"range\" min=\"10\" max=\"50\" step=\"5\">\n",
    "</form>"
   ]
  },
  {
   "cell_type": "raw",
   "metadata": {},
   "source": [
    "The code for the given part is:\n",
    "\n",
    "<form>\n",
    "    <input type=\"range\" name=\"range_input\" min=\"10\" max=\"50\" step=\"5\">\n",
    "</form>"
   ]
  },
  {
   "cell_type": "markdown",
   "metadata": {},
   "source": [
    "So min and max defines the minimum and maximum values of the range and step defines the values that the range can have (Eg: here we can have values like 10, 15, 20, 25, 30 ...). By default the value of step=\"1\" and the default range is \"0\" to \"100\"."
   ]
  },
  {
   "cell_type": "markdown",
   "metadata": {},
   "source": [
    "## RADIO TYPE"
   ]
  },
  {
   "cell_type": "markdown",
   "metadata": {},
   "source": [
    "Radio buttons let a user select ONLY ONE of a limited number of choices. As we want to only select one of the radio buttons at once, the name attributes are all set to the same value to make these radio buttons part of the same set.\n",
    "\n",
    "It is important to provide both name and value attribute in the case of radio type to pass the information to the server."
   ]
  },
  {
   "cell_type": "markdown",
   "metadata": {},
   "source": [
    "<form>\n",
    "    <input type=\"radio\" name=\"gender\" value=\"Male\"> Male <br>\n",
    "    <input type=\"radio\" name=\"gender\" value=\"Female\"> Female <br>\n",
    "    <input type=\"radio\" name=\"gender\" value=\"Other\"> Other <br>\n",
    "</form>"
   ]
  },
  {
   "cell_type": "raw",
   "metadata": {},
   "source": [
    "The code for the above looks like:\n",
    "\n",
    "<form>\n",
    "    <input type=\"radio\" name=\"gender\" value=\"Male\"> Male <br>\n",
    "    <input type=\"radio\" name=\"gender\" value=\"Female\"> Female <br>\n",
    "    <input type=\"radio\" name=\"gender\" value=\"Other\"> Other <br>\n",
    "</form>"
   ]
  },
  {
   "cell_type": "markdown",
   "metadata": {},
   "source": [
    "## CHECKBOX TYPE"
   ]
  },
  {
   "cell_type": "markdown",
   "metadata": {},
   "source": [
    "These are similar to the radio type but here we can select ZERO or MORE THAN ONE choices. Also, if you want any of the checkbox already ticked, use the checked attribute (which is a boolean attribute).\n",
    "\n",
    "\n",
    "It is important to provide both name and value attribute in the case of checkbox type to pass the information to the server."
   ]
  },
  {
   "cell_type": "markdown",
   "metadata": {},
   "source": [
    "<form>\n",
    "    <input type=\"checkbox\" id=\"html\" name=\"language\" value=\"HTML\" checked>\n",
    "    <label for =\"html\">HTML</label> <br>\n",
    "    <input type=\"checkbox\" id=\"css\" name=\"language\" value=\"CSS\">\n",
    "    <label for =\"css\">CSS</label> <br>\n",
    "    <input type=\"checkbox\" id=\"javascript\" name=\"language\" value=\"Javascript\">\n",
    "    <label for =\"javascript\">Javascript</label> <br>\n",
    "</form>"
   ]
  },
  {
   "cell_type": "raw",
   "metadata": {},
   "source": [
    "The code for the above is given below as:\n",
    "\n",
    "<form>\n",
    "    <input type=\"checkbox\" id=\"html\" name=\"language\" value=\"HTML\" checked>\n",
    "    <label for =\"html\">HTML</label> <br>\n",
    "    <input type=\"checkbox\" id=\"css\" name=\"language\" value=\"CSS\">\n",
    "    <label for =\"css\">CSS</label> <br>\n",
    "    <input type=\"checkbox\" id=\"javascript\" name=\"language\" value=\"Javascript\">\n",
    "    <label for =\"javascript\">Javascript</label> <br>\n",
    "</form>"
   ]
  },
  {
   "cell_type": "markdown",
   "metadata": {},
   "source": [
    "## BUTTON TYPE"
   ]
  },
  {
   "cell_type": "markdown",
   "metadata": {},
   "source": [
    "Many a times one just doesn't want to write submit on a button. It can be used to reset the complete form, or to add an image to the button too. For this, we use the button attribute."
   ]
  },
  {
   "cell_type": "markdown",
   "metadata": {},
   "source": [
    "<form>\n",
    "    <input type=\"button\" value=\"Sign-Up\">\n",
    "</form>"
   ]
  },
  {
   "cell_type": "raw",
   "metadata": {},
   "source": [
    "The code for the above shown button is:\n",
    "\n",
    "<form>\n",
    "    <input type=\"button\" value=\"Sign-Up\">\n",
    "</form>"
   ]
  },
  {
   "cell_type": "markdown",
   "metadata": {},
   "source": [
    "However you can use the BUTTON ELEMENT too rather than using the BUTTON as an input-type."
   ]
  },
  {
   "cell_type": "raw",
   "metadata": {},
   "source": [
    "Here, we can use the following values in the type attribute: \n",
    "1. Button \n",
    "2. Reset \n",
    "3. Submit\n",
    "\n",
    "<button type=\"\"> </button>\n",
    "___________________________\n",
    "\n",
    "Also, the button element can be used to make an image work as an input too."
   ]
  },
  {
   "cell_type": "markdown",
   "metadata": {},
   "source": [
    "## DROP DOWN TAG"
   ]
  },
  {
   "cell_type": "markdown",
   "metadata": {},
   "source": [
    "We use the radio type if the options from which we want the user to choose are not very large (max 7-8). However, if the options are large enough, we use DROP DOWN as the input type."
   ]
  },
  {
   "cell_type": "markdown",
   "metadata": {},
   "source": [
    "<form>\n",
    "    <label for =\"mon\">Select the Month: </label><br>\n",
    "    <select id=\"mon\" name=\"Month\">\n",
    "    <option>January</option>\n",
    "    <option>February</option>\n",
    "    <option>March</option>\n",
    "    <option>April</option>\n",
    "    <option>May</option>\n",
    "    <option selected>June</option>\n",
    "    <option>July</option>\n",
    "    <option>August</option>\n",
    "    <option>September</option>\n",
    "    <option>October</option>\n",
    "    <option>November</option>\n",
    "    <option>December</option>\n",
    "</form>"
   ]
  },
  {
   "cell_type": "raw",
   "metadata": {},
   "source": [
    "The code for the above Drop Down is:\n",
    "\n",
    "<form>\n",
    "    <label for =\"mon\">Select the Month: </label><br>\n",
    "    <select id=\"mon\" name=\"Month\">\n",
    "    <option>January</option>\n",
    "    <option>February</option>\n",
    "    <option>March</option>\n",
    "    <option>April</option>\n",
    "    <option>May</option>\n",
    "    <option selected>June</option>\n",
    "    <option>July</option>\n",
    "    <option>August</option>\n",
    "    <option>September</option>\n",
    "    <option>October</option>\n",
    "    <option>November</option>\n",
    "    <option>December</option>\n",
    "</form>"
   ]
  },
  {
   "cell_type": "markdown",
   "metadata": {},
   "source": [
    "By default, the first option is selected, however if you want to select any other option by default, write selected boolean attribute in front of it.\n",
    "\n",
    "Also, if you want to select more than one in drop down, add multiple boolean attribute to the select tag."
   ]
  },
  {
   "cell_type": "markdown",
   "metadata": {},
   "source": [
    "<form>\n",
    "    <label for =\"mon\">Select the Month: </label><br>\n",
    "    <select id=\"mon\" name=\"Month\" multiple>\n",
    "    <option>January</option>\n",
    "    <option>February</option>\n",
    "    <option>March</option>\n",
    "    <option>April</option>\n",
    "    <option>May</option>\n",
    "    <option selected>June</option>\n",
    "    <option>July</option>\n",
    "    <option>August</option>\n",
    "    <option>September</option>\n",
    "    <option>October</option>\n",
    "    <option>November</option>\n",
    "    <option>December</option>\n",
    "</form>"
   ]
  },
  {
   "cell_type": "markdown",
   "metadata": {},
   "source": [
    "# OTHER IMPORTANT TAGS IN HTML"
   ]
  },
  {
   "cell_type": "markdown",
   "metadata": {},
   "source": [
    "## 1. TEXTAREA"
   ]
  },
  {
   "cell_type": "raw",
   "metadata": {},
   "source": [
    "We can use <input type=\"text\"> to take an input, however, this will take only one line input.\n",
    "\n",
    "If we want to take multiline input, we will probably need to use <textarea> tag. In this we can specify the rows and cols of the area too and this can also take multiline input."
   ]
  },
  {
   "cell_type": "markdown",
   "metadata": {},
   "source": [
    "<label for=\"write\"> WRITE TEXT HERE: </label> <br>\n",
    "<textarea id=\"write\" rows=\"10\" cols=\"60\"></textarea>"
   ]
  },
  {
   "cell_type": "raw",
   "metadata": {},
   "source": [
    "Code for the above is given as:\n",
    "\n",
    "<label for=\"write\"> WRITE TEXT HERE: </label> <br>\n",
    "<textarea id=\"write\" rows=\"10\" cols=\"30\"></textarea>"
   ]
  },
  {
   "cell_type": "markdown",
   "metadata": {},
   "source": [
    "## AUDIO AND VIDEO TAGS (MEDIA TAGS)"
   ]
  },
  {
   "cell_type": "markdown",
   "metadata": {},
   "source": [
    "<audio src=\"relative_path_of_file\" controls autoplay>\n",
    "</audio>"
   ]
  },
  {
   "cell_type": "raw",
   "metadata": {},
   "source": [
    "The following is the code for the above case:\n",
    "\n",
    "<audio src=\"relative_path_of_file\" controls autoplay>\n",
    "</audio>"
   ]
  },
  {
   "cell_type": "markdown",
   "metadata": {},
   "source": [
    "Rather than using the src attribute, you can also use the source tag."
   ]
  },
  {
   "cell_type": "markdown",
   "metadata": {},
   "source": [
    "<video width=\"320\" height=\"240\" controls>\n",
    "  <source src=\"https://www.youtube.com/watch?v=hY55aVoggb8\" type=\"video/mp4\">\n",
    "Your browser does not support the video tag.\n",
    "</video>"
   ]
  },
  {
   "cell_type": "raw",
   "metadata": {},
   "source": [
    "<video width=\"320\" height=\"240\" controls>\n",
    "  <source src=\"https://www.youtube.com/watch?v=hY55aVoggb8\" type=\"video/mp4\">\n",
    "Your browser does not support the video tag.\n",
    "</video>"
   ]
  },
  {
   "cell_type": "code",
   "execution_count": null,
   "metadata": {},
   "outputs": [],
   "source": []
  }
 ],
 "metadata": {
  "kernelspec": {
   "display_name": "Python 3",
   "language": "python",
   "name": "python3"
  },
  "language_info": {
   "codemirror_mode": {
    "name": "ipython",
    "version": 3
   },
   "file_extension": ".py",
   "mimetype": "text/x-python",
   "name": "python",
   "nbconvert_exporter": "python",
   "pygments_lexer": "ipython3",
   "version": "3.7.6"
  }
 },
 "nbformat": 4,
 "nbformat_minor": 4
}
