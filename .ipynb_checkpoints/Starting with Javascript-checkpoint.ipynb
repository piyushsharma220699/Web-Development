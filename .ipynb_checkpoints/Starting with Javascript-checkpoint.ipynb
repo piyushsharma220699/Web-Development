{
 "cells": [
  {
   "cell_type": "markdown",
   "metadata": {},
   "source": [
    "# STARTING WITH JAVASCRIPT"
   ]
  },
  {
   "cell_type": "markdown",
   "metadata": {},
   "source": [
    "This is to make the webpages more dynamic and add action to them.\n",
    "Eg: when you double-click on a post on instagram, it gets liked OR While sign-up, when you enter and re-enter the password, it tells you that both of them don't match."
   ]
  },
  {
   "cell_type": "markdown",
   "metadata": {},
   "source": [
    "## HISTORY OF JAVASCRIPT"
   ]
  },
  {
   "cell_type": "raw",
   "metadata": {},
   "source": [
    "-> Developed in 1995 by Brandon Eich, to add interactivity to NETSCAPE(Web-Browser). \n",
    "\n",
    "-> Initially, javascript was called MOCHA, then it was changed to LIVESCRIPT, now it is called JAVASCRIPT. \n",
    "\n",
    "-> Actually javascript was named like this as it was a marketing decision (java was quite famous)."
   ]
  },
  {
   "cell_type": "markdown",
   "metadata": {},
   "source": [
    "## DECLARE A VARIABLE IN JAVASCRIPT"
   ]
  },
  {
   "cell_type": "raw",
   "metadata": {},
   "source": [
    "To declare a variable in javascript, just write ::\n",
    "\n",
    "var variablename = value;\n",
    "Eg:  var a = 10;\n",
    "\n",
    "//However, adding semicolon at the end of a line is optional in JavaScript, which means that if you are not typing the semicolon, javascript will automatically type it there. HOWEVER, THERE ARE CASES WHERE PROBLEMS ARISE, SO LET'S ALWAYS WRITE IT.\n",
    "\n",
    "//As javascript is loosely typed(like python), we are not required to specify the type of variable while declaring it, also, the same variable can have different type assigned.\n",
    "\n",
    "Eg:\n",
    "\n",
    "var a = 10;\n",
    "a = \"Hello!\";\n",
    "a = true;"
   ]
  },
  {
   "cell_type": "raw",
   "metadata": {},
   "source": [
    "There are 6 primitive datatypes in JavaScript ::\n",
    "        1. Number  //Max value that can be stored in a number is Number.MAX_VALUE\n",
    "        2. String  //You can write them in both double and single quotes\n",
    "        3. Boolean //Anything else other than 0 will be true | Any string except empty string will be true | null and undefined is false\n",
    "        4. null\n",
    "        5. undefined\n",
    "        6. symbol\n",
    "        \n",
    "Also, there is another datatype that is :: Object"
   ]
  },
  {
   "cell_type": "markdown",
   "metadata": {},
   "source": [
    "### NULL VS UNDEFINED"
   ]
  },
  {
   "cell_type": "raw",
   "metadata": {},
   "source": [
    "Undefined is the result of declaring a variable with out assigning it to a value. So basically, if you declare a variable, you don't assign any value to it.\n",
    "\n",
    "Eg: var a;\n",
    "Here, if you have not assigned any value to a, it will have a value named 'undefined' assigned to it, showing that you have not yet assigned any value to this variable.\n",
    "Also, using type of variable in this case will give the output as > undefined\n",
    "\n",
    "null, however, is an assignment value. You can assign the value null to any variable, which basically means that the variable is blank. It shows that you don't have the value now, thus you are defining null for now.\n",
    "\n",
    "Eg: var a = null;\n",
    "Using type of variable in this case will provide the output as object (Which is actually a bug in javascript)\n",
    "\n",
    "\n",
    "In summary: null and undefined are different in that null is an explicitly assigned lack of value, while undefined is an implicitly assigned value."
   ]
  },
  {
   "cell_type": "markdown",
   "metadata": {},
   "source": [
    "## typeof variable"
   ]
  },
  {
   "cell_type": "raw",
   "metadata": {},
   "source": [
    "In general, it is similar to type() operator in C++. It prints the type on the console in double quotes\n",
    "typeof 10          // \"number\"\n",
    "typeof \"Hello!\"    // \"string\"\n",
    "\n",
    "However, some of the notable things are ::\n",
    "*********************************\n",
    "typeof NaN         // \"number\"\n",
    "typeof Infinity    // \"number\"\n",
    "*********************************"
   ]
  },
  {
   "cell_type": "markdown",
   "metadata": {},
   "source": [
    "## PRINT IN JAVASCRIPT"
   ]
  },
  {
   "cell_type": "raw",
   "metadata": {},
   "source": [
    "To print anything in javascript, we will use ::\n",
    "\n",
    "console.log(\"Hello World!\");\n",
    "\n",
    "OR\n",
    "\n",
    "var a = 10;\n",
    "console.log(a);"
   ]
  },
  {
   "cell_type": "markdown",
   "metadata": {},
   "source": [
    "## OPERATORS IN JAVASCRIPT"
   ]
  },
  {
   "cell_type": "markdown",
   "metadata": {},
   "source": [
    "Almost everything is given here :: https://www.w3schools.com/js/js_operators.asp"
   ]
  },
  {
   "cell_type": "raw",
   "metadata": {},
   "source": [
    "They are almost same as C++ operators. Some changes are ::\n",
    "\n",
    "1. 10/4 gives 2.5 ::> This is as here we don't have datatypes as int, float, double etc. Here we only have a datatype named number, so no type conversion and all takes place and the answer comes as a number directly\n",
    "\n",
    "2. 10.5%4 gives 2.5 ::> Same logic as above"
   ]
  },
  {
   "cell_type": "markdown",
   "metadata": {},
   "source": [
    "## == VS ==="
   ]
  },
  {
   "cell_type": "raw",
   "metadata": {},
   "source": [
    "Here when javascript was developed, the answers were like ::\n",
    "\n",
    "1 == '1' gives true :: Which actually means that the javascript type converts and compare them on the basis of their values only. That is when the developers demanded an operator using which they can compare on the basis of data type too.\n",
    "That is when === came into picture!\n",
    "\n",
    "1 === '1' gives false     //Type Coersion takes place\n",
    "1 == '1' gives true       //Type Coersion didn't take place\n",
    "//THIS IS THE DIFFERENCE"
   ]
  },
  {
   "cell_type": "markdown",
   "metadata": {},
   "source": [
    "## TYPE COERSION"
   ]
  },
  {
   "cell_type": "raw",
   "metadata": {},
   "source": [
    "--> \"Hello \" + 2 gives \"Hello 2\"\n",
    "--> However, \"1\" - 1 gives 0\n",
    "--> \"1\" * 5 gives 5\n",
    "--> \"1\" / 2 gives 0.5\n",
    "--> 1 == '1' gives true //Mast bakchodi\n",
    "\n",
    "So the point is, javascript was made to make programming easier for the begineers, thus some of the mistakes that the begineer programmers can do was forbidden. Thus in the first case, using the + sign makes the number getting converted to string and then the concantenation happens and the answer is of the type string.\n",
    "\n",
    "While on the other hand, there is the subtraction operator. This operator makes the string getting converted to number and then the subtraction happens and the answer is of the type number.\n",
    "\n",
    "***********************************************************\n",
    "STUPID TYPE CONVERSION BEHAVIOUR! Literally dhakke hain!\n",
    "***********************************************************"
   ]
  },
  {
   "cell_type": "markdown",
   "metadata": {},
   "source": [
    "## CONDITIONALS IN JAVASCRIPT"
   ]
  },
  {
   "cell_type": "raw",
   "metadata": {},
   "source": [
    "var a = 10;\n",
    "\n",
    "if(a==5){\n",
    "console.log(\"Value of a is 5\")\n",
    "}\n",
    "else if(a==9){\n",
    "colsole.log(\"Value of a is 9\")\n",
    "}\n",
    "else{\n",
    "console.log(\"Value of a is 10\")\n",
    "}\n",
    "\n",
    "//Any number except 0 is considered true\n",
    "//Any string except \"\" is considered true\n",
    "//null is considered falsy\n",
    "//undefined is just undefined"
   ]
  },
  {
   "cell_type": "markdown",
   "metadata": {},
   "source": [
    "## LOOPS IN JAVASCRIPT"
   ]
  },
  {
   "cell_type": "markdown",
   "metadata": {},
   "source": [
    "Similar to that in C++"
   ]
  }
 ],
 "metadata": {
  "kernelspec": {
   "display_name": "Python 3",
   "language": "python",
   "name": "python3"
  },
  "language_info": {
   "codemirror_mode": {
    "name": "ipython",
    "version": 3
   },
   "file_extension": ".py",
   "mimetype": "text/x-python",
   "name": "python",
   "nbconvert_exporter": "python",
   "pygments_lexer": "ipython3",
   "version": "3.7.6"
  }
 },
 "nbformat": 4,
 "nbformat_minor": 4
}
