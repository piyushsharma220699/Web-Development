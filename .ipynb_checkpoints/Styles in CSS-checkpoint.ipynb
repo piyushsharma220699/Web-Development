{
 "cells": [
  {
   "cell_type": "markdown",
   "metadata": {},
   "source": [
    "# ADD HEIGHT AND WIDTH"
   ]
  },
  {
   "cell_type": "raw",
   "metadata": {},
   "source": [
    "HTML:\n",
    "    <div id=\"div1\"> \n",
    "    </div>\n",
    "\n",
    "CSS:\n",
    "    #div1{\n",
    "    height: 200px; // One CSS pixel may or may not be able to one device pixel, DEPENDS ON DEVICE TYPES (1px = 1/96 inch)\n",
    "    width: 200px;\n",
    "    background-color: red;\n",
    "    }"
   ]
  },
  {
   "cell_type": "markdown",
   "metadata": {},
   "source": [
    "# COLOR IN CSS (DIFFERENT WAYS IN WHICH COLOR CAN BE ADDED TO AN ELEMENT)"
   ]
  },
  {
   "cell_type": "raw",
   "metadata": {},
   "source": [
    "# The colour can be added as::\n",
    "\n",
    "<WRITING DIRECT COLOR> \n",
    "    -> color: blue; (There are nearly 140 colours which can be written directly by their name)\n",
    "\n",
    "<WRITING RGB VALUES IN HEXADECIMAL> \n",
    "    -> color: #123456; (where 12 defines REDNESS, 34 defines GREENNESS, 56 defines BLUEISH :: basically what portion of red, green and blue you want)\n",
    "\n",
    "<IN RGB> \n",
    "    -> rgb(255, 0, 0);\n",
    "    \n",
    "<IN RGBA>\n",
    "    -> rgba(255, 0, 0, 0.5); (Here, A defines alpha, which is basically the opacity. If A=0, it is transparent completely and if A=1, it is opaque. Also, value of A is always between [0,1])\n",
    "\n",
    "<IN HSL> (Hue, Saturation, Lightness)\n",
    "    -> hsl(125, 56%, 33%); [Hue is a colour wheel, ans its value defines which value in this colour wheel are you pointing to, and the value can range between 0 & 360 only]\n",
    "\n",
    "<IN HSLA> (Hue, Saturation, Lightness, Alpha)\n",
    "    -> hsl(125, 56%, 33%, 0.4);\n",
    "    \n",
    "One can play with the colour values by Inspecting the page and check which colour best fits the element you want to color."
   ]
  },
  {
   "cell_type": "markdown",
   "metadata": {},
   "source": [
    "# UNITS OF CSS (IN WHAT UNITS CAN YOU DEFINE THE HEIGHT AND WIDTH OF AN ELEMENT)"
   ]
  },
  {
   "cell_type": "markdown",
   "metadata": {},
   "source": [
    "There are two types of Units:\n",
    "\n",
    "1. Absolute Units : cm, px(1/96th of an inch), inch\n",
    "2. Relative Units : %(Percentage: Relative to Parent), vh(Viewport Height), vw(Viewport Width), rem(Relative to main Element), em(Relative to Parent)"
   ]
  },
  {
   "cell_type": "markdown",
   "metadata": {},
   "source": [
    "### PERCENTAGE"
   ]
  },
  {
   "cell_type": "raw",
   "metadata": {},
   "source": [
    "PERCENTAGE IS IN TERMS OF PARENT ELEMENT. Eg:\n",
    "\n",
    "###### LET THE HTML CODE BE: ######\n",
    "\n",
    "<div id=\"parent_div\">\n",
    "    <div id=\"child_div\">\n",
    "    </div>\n",
    "</div>\n",
    "\n",
    "###### AND THE CORRESPONDING CSS CODE AS: ######\n",
    "\n",
    "#parent_div\n",
    "{\n",
    "    height: 300px;\n",
    "    width: 300px;\n",
    "    background-color: cyan;\n",
    "}\n",
    "\n",
    "#child_div\n",
    "{\n",
    "    height: 50%;\n",
    "    width: 50%;\n",
    "    background-color: blue;\n",
    "}\n",
    "\n",
    "So, the #child_div will always cover 50% of the area covered by #parent_div (basically its (150px, 150px))"
   ]
  },
  {
   "cell_type": "markdown",
   "metadata": {},
   "source": [
    "### VIEWPORT"
   ]
  },
  {
   "cell_type": "code",
   "execution_count": null,
   "metadata": {},
   "outputs": [],
   "source": []
  },
  {
   "cell_type": "markdown",
   "metadata": {},
   "source": [
    "### REM"
   ]
  },
  {
   "cell_type": "raw",
   "metadata": {},
   "source": [
    "REM IS RELATIVE TO THE ROOT ELEMENT OF THE PAGE\n",
    "\n",
    "1 rem = font-size of root\n",
    "By default the font size of root is 20px;\n",
    "\n",
    "So, basically if we have a CSS like this ::\n",
    "\n",
    "#div1\n",
    "{\n",
    "height: 1 rem;\n",
    "width: 2 rem;\n",
    "}\n",
    "\n",
    "By default it is equivalent to (height,width) = (20px,40px)"
   ]
  },
  {
   "cell_type": "markdown",
   "metadata": {},
   "source": [
    "### EM"
   ]
  },
  {
   "cell_type": "raw",
   "metadata": {},
   "source": [
    "Just like REM, WE HAVE EM WHICH IS RELATIVE TO THE PARENT ELEMENT OF THE GIVEN ELEMENT\n",
    "\n",
    "1 em = font-size of the parent element"
   ]
  },
  {
   "cell_type": "markdown",
   "metadata": {},
   "source": [
    "# BORDERS IN CSS"
   ]
  },
  {
   "cell_type": "raw",
   "metadata": {},
   "source": [
    "To add border around an element, we can use the following:\n",
    "\n",
    "#id1{\n",
    "    border-width: 4px;\n",
    "    border-style: solid;\n",
    "    border-color: red;\n",
    "}\n",
    "\n",
    "OR, we can do the same using simply the border property as:\n",
    "\n",
    "#id1{\n",
    "    border: 4px solid red;\n",
    "}"
   ]
  },
  {
   "cell_type": "markdown",
   "metadata": {},
   "source": [
    "Moreover, to add the BORDER RADIUS, we can use:\n",
    "\n",
    "#id1{\n",
    "border-radius: 4px;\n",
    "}"
   ]
  },
  {
   "cell_type": "markdown",
   "metadata": {},
   "source": [
    "### BORDER WIDTH"
   ]
  },
  {
   "cell_type": "raw",
   "metadata": {},
   "source": [
    "#div1{\n",
    "    border-width: 4px;\n",
    "}\n",
    "\n",
    "If there is only one value provided for the border-width property, it means that all the four(top, right, bottom, left) sides of the element has a width of 4px.\n",
    "\n",
    "###########################################################################################################################\n",
    "\n",
    "#div1{\n",
    "    border-width: 4px(top and bottom border) 3px(left and right border);\n",
    "}\n",
    "\n",
    "If there is two values provided, it means that top & bottom have width of 4px whereas right & left sides of the element has a width of 4px.\n",
    "\n",
    "###########################################################################################################################\n",
    "\n",
    "#div1{\n",
    "    border-width: 4px(top border) 5px(left and right border) 6px(bottom border);\n",
    "}\n",
    "\n",
    "If there are three values provided, then the first value is of TOP, second value is of BOTH LEFT AND RIGHT, third value is of BOTTOM border.\n",
    "\n",
    "###########################################################################################################################\n",
    "\n",
    "#div1{\n",
    "    border-width: 4px(top border) 5px(right border) 6px(bottom border) 7px(left border);\n",
    "}\n",
    "\n",
    "If there are three values provided, then the first value is of TOP, second value is of RIGHT, third value is of BOTTOM and fourth value is of LEFT border."
   ]
  },
  {
   "cell_type": "markdown",
   "metadata": {},
   "source": [
    "# TEXT STYLING IN CSS"
   ]
  },
  {
   "cell_type": "raw",
   "metadata": {},
   "source": [
    "#id1{\n",
    "    font-size: 30px;\n",
    "    color: blue;\n",
    "    font-weight: bold/bolder;\n",
    "    text-align: justify/left align/right align etc. etc.\n",
    "    \n",
    "    line-height(distance between the lines): \n",
    "    word-spacing(space between the individual words):\n",
    "    \n",
    "    text-decoration: underline/none/line-through etc.\n",
    "    text-transform: uppercase/lowercase/capitalise etc.\n",
    "}\n",
    "\n",
    "THERE ARE A LOT OF PROPERTIES WHEN WE COME TO TEXT STYLING, ONE NEEDS TO EXPLORE THEM ALL"
   ]
  },
  {
   "cell_type": "markdown",
   "metadata": {},
   "source": [
    "# ADDING BACKGROUND TO AN ELEMENT"
   ]
  },
  {
   "cell_type": "raw",
   "metadata": {},
   "source": [
    "#id1{\n",
    "    background-image: url(\"image.png\");\n",
    "}\n",
    "\n",
    "###########################################################################################################################\n",
    "\n",
    "We can have multiple background images like the code below -\n",
    " \n",
    "div{\n",
    "    ...\n",
    "    background-image: url(\"https://secure.gravatar.com/avatar/a07645826af48a15e1c6ce2869f2083b?s=49&d=identicon&r=g\") ,url(\"https://blog.codingninjas.in/wp-content/uploads/2017/01/cropped-Final_logo_switchtocode-01.png\");\n",
    "    ...\n",
    "}"
   ]
  },
  {
   "cell_type": "markdown",
   "metadata": {},
   "source": [
    "This will add the image in the background with the dimensions as that of the original image. Also, if the dimensions of the element are more than that of the image, the image will repeat itself too in both X and Y direction."
   ]
  },
  {
   "cell_type": "raw",
   "metadata": {},
   "source": [
    "#id1{\n",
    "    background-image: url(\"image.png\");\n",
    "    background-repeat: no-repeat / repeat-x / repeat-y / inherit(inherit the property that of parent element);\n",
    "    background-position: center/bottom/top/right/left;\n",
    "    background-size: auto/cover(to cover the entire container)/contain(in case the image is bigger than the container and you want it to contain the complete image, you can use this)\n",
    "}"
   ]
  },
  {
   "cell_type": "markdown",
   "metadata": {},
   "source": [
    "### Background Attachment"
   ]
  },
  {
   "cell_type": "markdown",
   "metadata": {},
   "source": [
    "By default, the value of this property is scroll, which means that when you'll scroll the webpage, the image will scroll according to it.\n",
    "\n",
    "But to add an parallax effect(background is fixed and we're scrolling on it) on the page, we can set it to fixed too."
   ]
  },
  {
   "cell_type": "raw",
   "metadata": {},
   "source": [
    "#div1{\n",
    "background-attachment: fixed/scroll;\n",
    "}"
   ]
  },
  {
   "cell_type": "markdown",
   "metadata": {},
   "source": [
    "# MARGINS IN CSS"
   ]
  },
  {
   "cell_type": "markdown",
   "metadata": {},
   "source": [
    "Margins are used to create space around elements, outside of any defined borders. You can set margin-top, margin-bottom, margin-right, margin-left and you have full control over all."
   ]
  },
  {
   "cell_type": "raw",
   "metadata": {},
   "source": [
    "#div1{\n",
    "    margin: auto;     //This will center the image on the horizontal axis. The element will then take up the specified width, and the remaining space will be split equally between the left and right margins.\n",
    "}"
   ]
  },
  {
   "cell_type": "markdown",
   "metadata": {},
   "source": [
    "### MARGIN COLLAPSE"
   ]
  },
  {
   "cell_type": "markdown",
   "metadata": {},
   "source": [
    "Let's suppose we have two elements on top and bottom of each other and both of them have a margin set of 10px. Then, in this case the elements won't be 10px+10px=20px apart but will actually be max(10px,10px)=10px apart.\n",
    "\n",
    "This is because margins don't add but they actually collapse in CSS."
   ]
  },
  {
   "cell_type": "markdown",
   "metadata": {},
   "source": [
    "#### This does not happen on left and right margins! Only top and bottom margins!"
   ]
  },
  {
   "cell_type": "raw",
   "metadata": {},
   "source": [
    "PROPERTY\t                 DESCRIPTION\n",
    "\n",
    "margin\t                     A shorthand property for setting the margin properties in one declaration\n",
    "margin-bottom\t             Sets the bottom margin of an element\n",
    "margin-left\t                 Sets the left margin of an element\n",
    "margin-right\t             Sets the right margin of an element\n",
    "margin-top\t                 Sets the top margin of an element"
   ]
  },
  {
   "cell_type": "markdown",
   "metadata": {},
   "source": [
    "#### YES, you can use negative values in margin property."
   ]
  },
  {
   "cell_type": "markdown",
   "metadata": {},
   "source": [
    "# PADDING IN CSS"
   ]
  },
  {
   "cell_type": "markdown",
   "metadata": {},
   "source": [
    "Padding is used to create space around an element's content, inside of any defined borders. You can set padding-top, padding-bottom, padding-right, padding-left and you have full control over all."
   ]
  },
  {
   "cell_type": "raw",
   "metadata": {},
   "source": [
    "#div1{\n",
    "    padding: 10px;     //We CANNOT have negative values for the padding property of the element\n",
    "}"
   ]
  },
  {
   "cell_type": "markdown",
   "metadata": {},
   "source": [
    "Value of padding gets added in the element width too, so basically when you increase the size of the padding element from 0px to 10px, it's width gets increased by 20px."
   ]
  },
  {
   "cell_type": "code",
   "execution_count": null,
   "metadata": {},
   "outputs": [],
   "source": []
  }
 ],
 "metadata": {
  "kernelspec": {
   "display_name": "Python 3",
   "language": "python",
   "name": "python3"
  },
  "language_info": {
   "codemirror_mode": {
    "name": "ipython",
    "version": 3
   },
   "file_extension": ".py",
   "mimetype": "text/x-python",
   "name": "python",
   "nbconvert_exporter": "python",
   "pygments_lexer": "ipython3",
   "version": "3.7.6"
  }
 },
 "nbformat": 4,
 "nbformat_minor": 4
}
